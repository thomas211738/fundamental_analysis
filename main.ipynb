{
 "cells": [
  {
   "cell_type": "code",
   "execution_count": 2,
   "metadata": {},
   "outputs": [],
   "source": [
    "import yfinance as yf\n",
    "import pandas as pd"
   ]
  },
  {
   "cell_type": "code",
   "execution_count": 5,
   "metadata": {},
   "outputs": [],
   "source": [
    "# Companies and thier tickers in specific industries \n",
    "Tech_Companies_Full = pd.read_csv(\"food companies by market cap.csv\")\n",
    "Health_Care_Companies_Full = pd.read_csv(\"healthcare companies by market cap.csv\")\n",
    "Food_Companies_Full = pd.read_csv(\"tech companies by market cap.csv\")"
   ]
  },
  {
   "cell_type": "code",
   "execution_count": 8,
   "metadata": {},
   "outputs": [],
   "source": [
    "Tech_Companies = Tech_Companies_Full[['Name', 'Symbol']]\n",
    "Health_Care_Companies = Health_Care_Companies_Full[['Name', 'Symbol']]\n",
    "Food_Companies = Food_Companies_Full[['Name', 'Symbol']]"
   ]
  },
  {
   "cell_type": "code",
   "execution_count": 13,
   "metadata": {},
   "outputs": [],
   "source": [
    "def remove_ineligible(companies):\n",
    "    \n",
    "    rows_to_remove = []\n",
    "    \n",
    "    for index, row in companies.iterrows():\n",
    "        ticker = row['Symbol']\n",
    "        tickers = yf.Ticker(str(ticker))\n",
    "        income = tickers.income_stmt\n",
    "        \n",
    "        if len(income) == 0:\n",
    "            rows_to_remove.append(index)\n",
    "            \n",
    "    filtered_df = companies.drop(rows_to_remove)\n",
    "    \n",
    "    return filtered_df"
   ]
  },
  {
   "cell_type": "code",
   "execution_count": 24,
   "metadata": {},
   "outputs": [],
   "source": [
    "Valid_Tech_Companies = remove_ineligible(Tech_Companies)\n",
    "Valid_Health_Care_Companies = remove_ineligible(Health_Care_Companies)\n",
    "Valid_Food_Companies = remove_ineligible(Food_Companies)"
   ]
  },
  {
   "cell_type": "code",
   "execution_count": 25,
   "metadata": {},
   "outputs": [
    {
     "name": "stdout",
     "output_type": "stream",
     "text": [
      "0.9915966386554622\n",
      "0.9703703703703703\n",
      "0.9766949152542372\n"
     ]
    }
   ],
   "source": []
  },
  {
   "cell_type": "code",
   "execution_count": null,
   "metadata": {},
   "outputs": [],
   "source": []
  }
 ],
 "metadata": {
  "kernelspec": {
   "display_name": "venv",
   "language": "python",
   "name": "python3"
  },
  "language_info": {
   "codemirror_mode": {
    "name": "ipython",
    "version": 3
   },
   "file_extension": ".py",
   "mimetype": "text/x-python",
   "name": "python",
   "nbconvert_exporter": "python",
   "pygments_lexer": "ipython3",
   "version": "3.11.1"
  }
 },
 "nbformat": 4,
 "nbformat_minor": 2
}
